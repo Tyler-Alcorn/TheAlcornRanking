{
 "cells": [
  {
   "cell_type": "code",
   "execution_count": 4,
   "metadata": {},
   "outputs": [
    {
     "name": "stdout",
     "output_type": "stream",
     "text": [
      "API Key: 'gBVUAcJorPt7PGtWYiMsmCy9CLRphlOJbe8Ybdtt+yQBbkgLCTqSt7e8Ot7D6/7J'\n"
     ]
    }
   ],
   "source": [
    "import configparser\n",
    "\n",
    "# Initialize the parser and read the configuration file\n",
    "config = configparser.ConfigParser()\n",
    "config.read('config.ini')\n",
    "\n",
    "# Get the API key\n",
    "api_key = config['DEFAULT']['CFBD_API_KEY']\n",
    "\n",
    "# Your application logic here\n",
    "print(f\"API Key: {api_key}\")\n"
   ]
  },
  {
   "cell_type": "code",
   "execution_count": 5,
   "metadata": {},
   "outputs": [
    {
     "ename": "ModuleNotFoundError",
     "evalue": "No module named 'cfbd'",
     "output_type": "error",
     "traceback": [
      "\u001b[1;31m---------------------------------------------------------------------------\u001b[0m",
      "\u001b[1;31mModuleNotFoundError\u001b[0m                       Traceback (most recent call last)",
      "Cell \u001b[1;32mIn[5], line 1\u001b[0m\n\u001b[1;32m----> 1\u001b[0m \u001b[39mimport\u001b[39;00m \u001b[39mcfbd\u001b[39;00m\n\u001b[0;32m      2\u001b[0m \u001b[39mimport\u001b[39;00m \u001b[39mpandas\u001b[39;00m \u001b[39mas\u001b[39;00m \u001b[39mpd\u001b[39;00m\n\u001b[0;32m      4\u001b[0m \u001b[39m# Configuration\u001b[39;00m\n",
      "\u001b[1;31mModuleNotFoundError\u001b[0m: No module named 'cfbd'"
     ]
    }
   ],
   "source": [
    "import cfbd\n",
    "import pandas as pd\n",
    "\n",
    "# Configuration\n",
    "configuration = cfbd.Configuration()\n",
    "configuration.api_key['Authorization'] = 'YOUR_API_KEY_HERE'  # Replace with your API key\n",
    "configuration.api_key_prefix['Authorization'] = 'Bearer'\n",
    "\n",
    "# Initialize the API instance\n",
    "api_instance = cfbd.RankingsApi(cfbd.ApiClient(configuration))\n",
    "\n",
    "# Define the current year and the starting year (20 years ago)\n",
    "current_year = 2023\n",
    "start_year = current_year - 20\n",
    "\n",
    "# Create an empty DataFrame to store the rankings\n",
    "all_rankings = pd.DataFrame()\n",
    "\n",
    "# Fetch rankings for each year\n",
    "for year in range(start_year, current_year + 1):\n",
    "    print(f\"Fetching rankings for {year}...\")\n",
    "    response = api_instance.get_rankings(year)\n",
    "    year_rankings = pd.DataFrame().from_records([g.to_dict() for g in response])\n",
    "    all_rankings = all_rankings.append(year_rankings)\n",
    "\n",
    "# Save the rankings to a CSV file\n",
    "all_rankings.to_csv('rankings_last_20_years.csv', index=False)\n",
    "print(\"Rankings saved to rankings_last_20_years.csv\")\n"
   ]
  },
  {
   "cell_type": "code",
   "execution_count": null,
   "metadata": {},
   "outputs": [],
   "source": []
  }
 ],
 "metadata": {
  "kernelspec": {
   "display_name": "Python 3",
   "language": "python",
   "name": "python3"
  },
  "language_info": {
   "codemirror_mode": {
    "name": "ipython",
    "version": 3
   },
   "file_extension": ".py",
   "mimetype": "text/x-python",
   "name": "python",
   "nbconvert_exporter": "python",
   "pygments_lexer": "ipython3",
   "version": "3.11.4"
  },
  "orig_nbformat": 4
 },
 "nbformat": 4,
 "nbformat_minor": 2
}
